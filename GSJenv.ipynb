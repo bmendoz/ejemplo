{
  "nbformat": 4,
  "nbformat_minor": 0,
  "metadata": {
    "colab": {
      "name": "GSJenv",
      "provenance": [],
      "collapsed_sections": []
    },
    "kernelspec": {
      "name": "python3",
      "display_name": "Python 3"
    },
    "language_info": {
      "name": "python"
    }
  },
  "cells": [
    {
      "cell_type": "code",
      "metadata": {
        "id": "fpd32xmXlZKL"
      },
      "source": [
        "def funcion():\n",
        "  print(\"ejemplo\")\n",
        "\n"
      ],
      "execution_count": 4,
      "outputs": []
    },
    {
      "cell_type": "markdown",
      "metadata": {
        "id": "u3BWObG4xa68"
      },
      "source": [
        "Function that prints spanish word 'ejemplo'"
      ]
    }
  ]
}